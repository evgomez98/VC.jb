{
 "cells": [
  {
   "cell_type": "markdown",
   "metadata": {},
   "source": [
    "# __PotgreSQL y Docker con Python__"
   ]
  },
  {
   "cell_type": "markdown",
   "metadata": {},
   "source": [
    "## Creación de la `conexión`y el `cursor`.\n"
   ]
  },
  {
   "cell_type": "markdown",
   "metadata": {},
   "source": [
    "Cada una de las siguientes tablas y las respctivas consultas se realizaron desde Python usando la API `psycopg2`. Para esto, se creó una `conexión`y un `cursor` de manera previa:"
   ]
  },
  {
   "cell_type": "code",
   "execution_count": 1,
   "metadata": {},
   "outputs": [],
   "source": [
    "import psycopg2\n",
    "from psycopg2 import Error\n",
    "from tabulate import tabulate\n",
    "import pandas as pd\n",
    "import matplotlib.pyplot as plt\n",
    "import numpy as np\n",
    "import seaborn as sns\n",
    "from scipy import stats"
   ]
  },
  {
   "cell_type": "code",
   "execution_count": 2,
   "metadata": {},
   "outputs": [
    {
     "name": "stdout",
     "output_type": "stream",
     "text": [
      "PostgreSQL server information\n",
      "{'user': 'Elianna_user', 'channel_binding': 'prefer', 'dbname': 'Elianna_db', 'host': 'localhost', 'port': '5432', 'options': '', 'sslmode': 'prefer', 'sslcompression': '0', 'sslcertmode': 'allow', 'sslsni': '1', 'ssl_min_protocol_version': 'TLSv1.2', 'gssencmode': 'disable', 'krbsrvname': 'postgres', 'gssdelegation': '0', 'target_session_attrs': 'any', 'load_balance_hosts': 'disable'} \n",
      "\n",
      "You are connected to -  ('PostgreSQL 16.2 (Debian 16.2-1.pgdg120+2) on x86_64-pc-linux-gnu, compiled by gcc (Debian 12.2.0-14) 12.2.0, 64-bit',) \n",
      "\n",
      "PostgreSQL connection is closed\n"
     ]
    }
   ],
   "source": [
    "try:\n",
    "    connection = psycopg2.connect(user=\"Elianna_user\",\n",
    "                                  password=\"password\",\n",
    "                                  host=\"localhost\",\n",
    "                                  port=\"5432\",\n",
    "                                  database=\"Elianna_db\")\n",
    "\n",
    "    cursor = connection.cursor()\n",
    "    print(\"PostgreSQL server information\")\n",
    "    print(connection.get_dsn_parameters(), \"\\n\")\n",
    "\n",
    "    cursor.execute(\"SELECT version();\")\n",
    "    record = cursor.fetchone()\n",
    "    print(\"You are connected to - \", record, \"\\n\")\n",
    "\n",
    "except (Exception, Error) as error:\n",
    "    print(\"Error while connecting to PostgreSQL\", error)\n",
    "finally:\n",
    "    if (connection):\n",
    "        cursor.close()\n",
    "        connection.close()\n",
    "        print(\"PostgreSQL connection is closed\")"
   ]
  },
  {
   "cell_type": "markdown",
   "metadata": {},
   "source": [
    "Con el código anterior, primeramente se estableció la conexión con la API `psycopg2`, se proporcionan los párámetros para la conexión: `user`, `password`, `host`, `port` y `database` creadas previamente en el entorno virtul `Empresa` como instancia de base de datos en `Docker`. Se crea el `cursor` y la conexión con éste. Luego se ejecuta la consulta para seleccionar la versión del servicio `PotgreSQL`. "
   ]
  },
  {
   "cell_type": "markdown",
   "metadata": {},
   "source": [
    "## Creación de tablas: ``employees``."
   ]
  },
  {
   "cell_type": "markdown",
   "metadata": {},
   "source": [
    "I) Crear la tabla nombrada: ``employees``. _(codigo prestablecido en el ejercicio: Ver link en la introducción)._\n"
   ]
  },
  {
   "cell_type": "code",
   "execution_count": 3,
   "metadata": {},
   "outputs": [],
   "source": [
    "connection = psycopg2.connect(user=\"Elianna_user\",\n",
    "                                  password=\"password\",\n",
    "                                  host=\"localhost\",\n",
    "                                  port=\"5432\",\n",
    "                                  database=\"Elianna_db\")\n",
    "cursor = connection.cursor()\n",
    "\n",
    "cursor.execute('''DROP TABLE IF EXISTS employees''')\n",
    "cursor.execute('''CREATE TABLE employees\n",
    "   ( employee_id INTEGER\n",
    "   , first_name VARCHAR(20)\n",
    "   , last_name VARCHAR(25)\n",
    "   , email VARCHAR(25)\n",
    "   , phone_number VARCHAR(20)\n",
    "   , hire_date DATE\n",
    "   , job_id VARCHAR(10)\n",
    "   , salary NUMERIC(8,2)\n",
    "   , commission_pct NUMERIC(2,2)\n",
    "   , manager_id INTEGER\n",
    "   , department_id INTEGER\n",
    "   ) ;\n",
    "CREATE UNIQUE INDEX emp_emp_id_pk\n",
    "         ON employees (employee_id) ;\n",
    "ALTER TABLE employees ADD\n",
    "   PRIMARY KEY (employee_id);\n",
    "''')\n",
    "connection.commit()\n",
    "connection.close()"
   ]
  },
  {
   "cell_type": "markdown",
   "metadata": {},
   "source": [
    "Una vez ejecutado el código anterior vamos a ``PgAdmin`` y verificamos en la ruta Servers > Empresa > Databases > Elianna_db > Schemas > public > Tables, que la tabla `employees` ha sido creada: "
   ]
  },
  {
   "cell_type": "markdown",
   "metadata": {},
   "source": [
    "<img src=\"C:\\Users\\Eliana Gomez\\Pictures\\Screenshots\\cap1.png\">\n",
    "<p style=\"text-align:center;\">Tabla employees en la base datos Elianna_db</p>"
   ]
  },
  {
   "cell_type": "markdown",
   "metadata": {},
   "source": [
    "### Consulta del contenido de la tabla `employees`."
   ]
  },
  {
   "cell_type": "code",
   "execution_count": 4,
   "metadata": {},
   "outputs": [
    {
     "name": "stdout",
     "output_type": "stream",
     "text": [
      "[]\n",
      "(0,)\n"
     ]
    }
   ],
   "source": [
    "\n",
    "connection = psycopg2.connect(user=\"Elianna_user\",\n",
    "                                password=\"password\",\n",
    "                                host=\"localhost\",\n",
    "                                port=\"5432\",\n",
    "                                database=\"Elianna_db\")\n",
    "cursor = connection.cursor()\n",
    "\n",
    "cursor.execute(\"SELECT * FROM employees LIMIT 10;\")\n",
    "r = cursor.fetchall()\n",
    "print(r)\n",
    "    \n",
    "cursor.execute(\"SELECT count(1) FROM employees;\")\n",
    "r = cursor.fetchone()\n",
    "print(r)\n",
    "\n",
    "connection.close()\n"
   ]
  },
  {
   "cell_type": "markdown",
   "metadata": {},
   "source": [
    "Con esta consulta se seleccionan ``todas las columnas`` de la tabla ``employees`` y devuelve las ``primeras 10 filas`` de resultados. Seguidamente, se cuenta el ``número total de filas`` en la tabla ``employees``. En este caso, dado que la tabla aún no contine información, se muestra un vector vacio y el conteo de filas en 0. "
   ]
  },
  {
   "cell_type": "markdown",
   "metadata": {},
   "source": [
    "## Creación de tablas: ``courses``. \n"
   ]
  },
  {
   "cell_type": "markdown",
   "metadata": {},
   "source": [
    "II) Crear la tabla ``courses`` con las siguientes columnas:\n",
    "\n",
    "``course_id`` - integer y primary key.\n",
    "\n",
    "``course_name`` - valores alfanuméricos o de cadena de hasta 60 caracteres.\n",
    "\n",
    "``course_author`` - nombre del autor de hasta 40 caracteres.\n",
    "\n",
    "``course_status`` - published, draft, inactive.\n",
    "\n",
    "``course_published_dt ``- valor de tipo fecha."
   ]
  },
  {
   "cell_type": "code",
   "execution_count": 5,
   "metadata": {},
   "outputs": [],
   "source": [
    "connection = psycopg2.connect(user=\"Elianna_user\",\n",
    "                                  password=\"password\",\n",
    "                                  host=\"localhost\",\n",
    "                                  port=\"5432\",\n",
    "                                  database=\"Elianna_db\")\n",
    "cursor = connection.cursor()\n",
    "\n",
    "cursor.execute('''DROP TABLE IF EXISTS courses''')\n",
    "cursor.execute('''CREATE TABLE courses\n",
    "    (course_id SERIAL PRIMARY KEY\n",
    "   , course_name VARCHAR(60)\n",
    "   , course_author VARCHAR(40)\n",
    "   , course_status VARCHAR\n",
    "   , course_published_dt DATE        \n",
    "    );\n",
    "''')\n",
    "\n",
    "connection.commit()\n",
    "\n",
    "connection.close()"
   ]
  },
  {
   "cell_type": "markdown",
   "metadata": {},
   "source": [
    "Una vez ejecutado el código anterior vamos a ``PgAdmin`` y verificamos en la ruta Servers > Empresa > Databases > Elianna_db > Schemas > public > Tables, que la tabla `courses` ha sido creada: "
   ]
  },
  {
   "cell_type": "markdown",
   "metadata": {},
   "source": [
    "<img src=\"C:\\Users\\Eliana Gomez\\Pictures\\Screenshots\\cap3.png\">\n",
    "<p style=\"text-align:center;\">Tabla courses en la base datos Elianna_db</p>"
   ]
  },
  {
   "cell_type": "markdown",
   "metadata": {},
   "source": [
    "### Inserción de datos.\n",
    "III) Insertar datos\n",
    "\n",
    "Inserte los datos en ``courses`` utilizando los datos proporcionados _(Ver link en la introducción)_. Asegúrese de que el ``id`` es generado por el sistema. No olvide refrescar la información de la base de datos.\n"
   ]
  },
  {
   "cell_type": "code",
   "execution_count": 6,
   "metadata": {},
   "outputs": [],
   "source": [
    "connection = psycopg2.connect(user=\"Elianna_user\",\n",
    "                                  password=\"password\",\n",
    "                                  host=\"localhost\",\n",
    "                                  port=\"5432\",\n",
    "                                  database=\"Elianna_db\")\n",
    "cursor = connection.cursor()\n",
    "\n",
    "cursor.execute(\"INSERT INTO courses (course_name, course_author, course_status, course_published_dt) VALUES ('Programming using Python', 'Bob Dillon', 'published', '2020-09-30')\");\n",
    "cursor.execute(\"INSERT INTO courses (course_name, course_author, course_status, course_published_dt) VALUES ('Data Engineering using Python', 'Bob Dillon', 'published', '2020-07-15')\");\n",
    "cursor.execute(\"INSERT INTO courses (course_name, course_author, course_status, course_published_dt) VALUES ('Data Engineering using Scala', 'Elvis Presley', 'draft', NULL)\");\n",
    "cursor.execute(\"INSERT INTO courses (course_name, course_author, course_status, course_published_dt) VALUES ('Programming using Scala', 'Elvis Presley', 'published', '2020-05-12')\");\n",
    "cursor.execute(\"INSERT INTO courses (course_name, course_author, course_status, course_published_dt) VALUES ('Programming using Java', 'Mike Jack', 'inactive', '2020-08-10')\");\n",
    "cursor.execute(\"INSERT INTO courses (course_name, course_author, course_status, course_published_dt) VALUES ('Web Applications-Python Flask', 'Bob Dillon', 'inactive', '2020-07-20')\");\n",
    "cursor.execute(\"INSERT INTO courses (course_name, course_author, course_status, course_published_dt) VALUES ('Web Applications-Java Scring', 'Mike Jack', 'draft',NULL)\");\n",
    "cursor.execute(\"INSERT INTO courses (course_name, course_author, course_status, course_published_dt) VALUES ('Pipeline Orchestration-Python', 'Bob Dillon', 'draft',NULL)\");\n",
    "cursor.execute(\"INSERT INTO courses (course_name, course_author, course_status, course_published_dt) VALUES ('Streaming Pipelines-Python', 'Bob Dillon', 'published', '2020-10-05')\");\n",
    "cursor.execute(\"INSERT INTO courses (course_name, course_author, course_status, course_published_dt) VALUES ('Web Applications-Scala Play', 'Elvis Presley', 'inactive', '2020-09-30')\");\n",
    "cursor.execute(\"INSERT INTO courses (course_name, course_author, course_status, course_published_dt) VALUES ('Web Applications-Python Django', 'Bob Dillon', 'published', '2020-06-23')\");\n",
    "cursor.execute(\"INSERT INTO courses (course_name, course_author, course_status, course_published_dt) VALUES ('Server Automation-Ansible', 'Uncle Sam', 'published', '2020-07-05')\");\n",
    "\n",
    "connection.commit()\n",
    "connection.close()"
   ]
  },
  {
   "cell_type": "markdown",
   "metadata": {},
   "source": [
    "Una vez ejecutado el código anterior vamos a ``PgAdmin`` y verificamos en la ruta Servers > Empresa > Databases > Elianna_db > Schemas > public > Tables > courses y seleccionamos la opción `All Rows` para ver la tabla y su contenido:"
   ]
  },
  {
   "cell_type": "markdown",
   "metadata": {},
   "source": [
    "<img src=\"C:\\Users\\Eliana Gomez\\Pictures\\Screenshots\\cap4.png\">\n",
    "<p style=\"text-align:center;\">Tabla courses con valores insertados</p>"
   ]
  },
  {
   "cell_type": "markdown",
   "metadata": {},
   "source": [
    "### Consultas: tabla `courses`.\n",
    "\n",
    "IV) Borre todos los cursos que no estén en modo borrador ni publicados. Proporcione la sentencia de borrado como respuesta para este ejercicio en el ``Jupyter Book``. Para validar, obtenga el recuento de todos los cursos publicados por autor y asegúrese de que la salida está ordenada en forma descendente por recuento."
   ]
  },
  {
   "cell_type": "code",
   "execution_count": 7,
   "metadata": {},
   "outputs": [
    {
     "name": "stdout",
     "output_type": "stream",
     "text": [
      "  total published and draft  course_author\n",
      "---------------------------  ---------------\n",
      "                          5  Bob Dillon\n",
      "                          2  Elvis Presley\n",
      "                          1  Uncle Sam\n",
      "                          1  Mike Jack\n"
     ]
    }
   ],
   "source": [
    "from tabulate import tabulate \n",
    "connection = psycopg2.connect(user=\"Elianna_user\",\n",
    "                                  password=\"password\",\n",
    "                                  host=\"localhost\",\n",
    "                                  port=\"5432\",\n",
    "                                  database=\"Elianna_db\")\n",
    "cursor = connection.cursor()\n",
    "\n",
    "cursor.execute(\"\"\"\n",
    "    SELECT COUNT(course_name),course_author \n",
    "    FROM courses \n",
    "    WHERE course_status <> 'inactive'\n",
    "    GROUP BY course_author\n",
    "    ORDER BY COUNT(course_name) DESC\n",
    "    \"\"\");\n",
    "\n",
    "r = cursor.fetchall()\n",
    "print(tabulate(r, headers=['total published and draft', 'course_author'], tablefmt=\"simlple\"))\n",
    "connection.close()"
   ]
  },
  {
   "cell_type": "markdown",
   "metadata": {},
   "source": [
    "## Creación de tablas: `users`.\n",
    "\n",
    "\n"
   ]
  },
  {
   "cell_type": "markdown",
   "metadata": {},
   "source": [
    "VI) Crear la base de datos ``users:`` \n",
    " _(codigo proporcionado por el ejercicio. Ver link en la introducción)._"
   ]
  },
  {
   "cell_type": "code",
   "execution_count": 8,
   "metadata": {},
   "outputs": [],
   "source": [
    "connection = psycopg2.connect(user=\"Elianna_user\",\n",
    "                                  password=\"password\",\n",
    "                                  host=\"localhost\",\n",
    "                                  port=\"5432\",\n",
    "                                  database=\"Elianna_db\")\n",
    "cursor = connection.cursor()\n",
    "\n",
    "\n",
    "cursor.execute('''DROP TABLE IF EXISTS users''')\n",
    "cursor.execute('''CREATE TABLE users(\n",
    "    user_id SERIAL PRIMARY KEY,\n",
    "    user_first_name VARCHAR(30),\n",
    "    user_last_name VARCHAR(30),\n",
    "    user_email_id VARCHAR(50),\n",
    "    user_gender VARCHAR(1),\n",
    "    user_unique_id VARCHAR(15),\n",
    "    user_phone_no VARCHAR(20),\n",
    "    user_dob DATE,\n",
    "    created_ts TIMESTAMP)\n",
    "''');\n",
    "\n",
    "connection.commit()\n",
    "connection.close()"
   ]
  },
  {
   "cell_type": "markdown",
   "metadata": {},
   "source": [
    "Una vez ejecutado el código anterior vamos a ``PgAdmin`` y verificamos en la ruta Servers > Empresa > Databases > Elianna_db > Schemas > public > Tables, que la tabla `users` ha sido creada: "
   ]
  },
  {
   "cell_type": "markdown",
   "metadata": {},
   "source": [
    "<img src=\"C:\\Users\\Eliana Gomez\\Pictures\\Screenshots\\cap5.png\">\n",
    "<p style=\"text-align:center;\">Tabla users en la base de datos Elianna_db</p>"
   ]
  },
  {
   "cell_type": "markdown",
   "metadata": {},
   "source": [
    "### Inserción de datos."
   ]
  },
  {
   "cell_type": "markdown",
   "metadata": {},
   "source": [
    "Inserte los valores proporcionados: _(Ver link en la instrucción)._"
   ]
  },
  {
   "cell_type": "code",
   "execution_count": 9,
   "metadata": {},
   "outputs": [],
   "source": [
    "connection = psycopg2.connect(user=\"Elianna_user\",\n",
    "                                  password=\"password\",\n",
    "                                  host=\"localhost\",\n",
    "                                  port=\"5432\",\n",
    "                                  database=\"Elianna_db\")\n",
    "cursor = connection.cursor()\n",
    "\n",
    "cursor.execute('''\n",
    "    insert into users (\n",
    "    user_first_name, user_last_name, user_email_id, user_gender, \n",
    "    user_unique_id, user_phone_no, user_dob, created_ts)\n",
    "    \n",
    "    VALUES\n",
    "    ('Giuseppe', 'Bode', 'gbode0@imgur.com', 'M', '88833-8759', \n",
    "     '+86 (764) 443-1967', '1973-05-31', '2018-04-15 12:13:38'),\n",
    "    ('Lexy', 'Gisbey', 'lgisbey1@mail.ru', 'F', '262501-029', \n",
    "     '+86 (751) 160-3742', '2003-05-31', '2020-12-29 06:44:09'),\n",
    "    ('Karel', 'Claringbold', 'kclaringbold2@yale.edu', 'F', '391-33-2823', \n",
    "     '+62 (445) 471-2682', '1985-11-28', '2018-11-19 00:04:08'),\n",
    "    ('Marv', 'Tanswill', 'mtanswill3@dedecms.com', 'F', '1195413-80', \n",
    "     '+62 (497) 736-6802', '1998-05-24', '2018-11-19 16:29:43'),\n",
    "    ('Gertie', 'Espinoza', 'gespinoza4@nationalgeographic.com', 'M', '471-24-6869', \n",
    "     '+249 (687) 506-2960', '1997-10-30', '2020-01-25 21:31:10'),\n",
    "    ('Saleem', 'Danneil', 'sdanneil5@guardian.co.uk', 'F', '192374-933', \n",
    "     '+63 (810) 321-0331', '1992-03-08', '2020-11-07 19:01:14'),\n",
    "    ('Rickert', 'O''Shiels', 'roshiels6@wikispaces.com', 'M', '749-27-47-52', \n",
    "     '+86 (184) 759-3933', '1972-11-01', '2018-03-20 10:53:24'),\n",
    "    ('Cybil', 'Lissimore', 'clissimore7@pinterest.com', 'M', '461-75-4198', \n",
    "     '+54 (613) 939-6976', '1978-03-03', '2019-12-09 14:08:30'),\n",
    "    ('Melita', 'Rimington', 'mrimington8@mozilla.org', 'F', '892-36-676-2', \n",
    "     '+48 (322) 829-8638', '1995-12-15', '2018-04-03 04:21:33'),\n",
    "    ('Benetta', 'Nana', 'bnana9@google.com', 'M', '197-54-1646', \n",
    "     '+420 (934) 611-0020', '1971-12-07', '2018-10-17 21:02:51'),\n",
    "    ('Gregorius', 'Gullane', 'ggullanea@prnewswire.com', 'F', '232-55-52-58', \n",
    "     '+62 (780) 859-1578', '1973-09-18', '2020-01-14 23:38:53'),\n",
    "    ('Una', 'Glayzer', 'uglayzerb@pinterest.com', 'M', '898-84-336-6', \n",
    "     '+380 (840) 437-3981', '1983-05-26', '2019-09-17 03:24:21'),\n",
    "    ('Jamie', 'Vosper', 'jvosperc@umich.edu', 'M', '247-95-68-44', \n",
    "     '+81 (205) 723-1942', '1972-03-18', '2020-07-23 16:39:33'),\n",
    "    ('Calley', 'Tilson', 'ctilsond@issuu.com', 'F', '415-48-894-3', \n",
    "     '+229 (698) 777-4904', '1987-06-12', '2020-06-05 12:10:50'),\n",
    "    ('Peadar', 'Gregorowicz', 'pgregorowicze@omniture.com', 'M', '403-39-5-869', \n",
    "     '+7 (267) 853-3262', '1996-09-21', '2018-05-29 23:51:31'),\n",
    "    ('Jeanie', 'Webling', 'jweblingf@booking.com', 'F', '399-83-05-03', \n",
    "     '+351 (684) 413-0550', '1994-12-27', '2018-02-09 01:31:11'),\n",
    "    ('Yankee', 'Jelf', 'yjelfg@wufoo.com', 'F', '607-99-0411', \n",
    "     '+1 (864) 112-7432', '1988-11-13', '2019-09-16 16:09:12'),\n",
    "    ('Blair', 'Aumerle', 'baumerleh@toplist.cz', 'F', '430-01-578-5', \n",
    "     '+7 (393) 232-1860', '1979-11-09', '2018-10-28 19:25:35'),\n",
    "    ('Pavlov', 'Steljes', 'psteljesi@macromedia.com', 'F', '571-09-6181', \n",
    "     '+598 (877) 881-3236', '1991-06-24', '2020-09-18 05:34:31'),\n",
    "    ('Darn', 'Hadeke', 'dhadekej@last.fm', 'M', '478-32-02-87', \n",
    "     '+370 (347) 110-4270', '1984-09-04', '2018-02-10 12:56:00'),\n",
    "    ('Wendell', 'Spanton', 'wspantonk@de.vu', 'F', null, \n",
    "     '+84 (301) 762-1316', '1973-07-24', '2018-01-30 01:20:11'),\n",
    "    ('Carlo', 'Yearby', 'cyearbyl@comcast.net', 'F', null, \n",
    "     '+55 (288) 623-4067', '1974-11-11', '2018-06-24 03:18:40'),\n",
    "    ('Sheila', 'Evitts', 'sevittsm@webmd.com', null, '830-40-5287',\n",
    "     null, '1977-03-01', '2020-07-20 09:59:41'),\n",
    "    ('Sianna', 'Lowdham', 'slowdhamn@stanford.edu', null, '778-0845', \n",
    "     null, '1985-12-23', '2018-06-29 02:42:49'),\n",
    "    ('Phylys', 'Aslie', 'paslieo@qq.com', 'M', '368-44-4478', \n",
    "     '+86 (765) 152-8654', '1984-03-22', '2019-10-01 01:34:28')\n",
    "''')\n",
    "connection.commit()\n",
    "connection.close()"
   ]
  },
  {
   "cell_type": "markdown",
   "metadata": {},
   "source": [
    "Una vez ejecutado el código anterior vamos a ``PgAdmin`` y verificamos en la ruta Servers > Empresa > Databases > Elianna_db > Schemas > public > Tables > users y seleccionamos la opción `All Rows` para ver la tabla y su contenido:"
   ]
  },
  {
   "cell_type": "markdown",
   "metadata": {},
   "source": [
    "<img src=\"C:\\Users\\Eliana Gomez\\Pictures\\Screenshots\\cap6.png\">\n",
    "<p style=\"text-align:center;\">Tabla users con valores insertados</p>"
   ]
  },
  {
   "cell_type": "markdown",
   "metadata": {},
   "source": [
    "### Consultas: tabla `users`."
   ]
  },
  {
   "cell_type": "markdown",
   "metadata": {},
   "source": [
    "\n",
    "\n",
    "VII) Obtenga el número de usuarios creados por año. Utilice la tabla de usuarios para este ejercicio.\n",
    "\n",
    "- La salida debe contener el año de 4 dígitos y el recuento.\n",
    "\n",
    "- Use funciones específicas de fecha para obtener el año usando ``created_ts``.\n",
    "\n",
    "- Asegúrese de definir alias a las columnas como ``created_year`` y ``user_count`` respectivamente.\n",
    "\n",
    "- Los datos deben ordenarse de forma ascendente por ``created_year``.\n",
    "\n",
    "- Cuando ejecutes la consulta usando el entorno ``Jupyter``, puede que tenga decimales para los enteros. Por lo tanto, puede mostrar los resultados incluso con decimales.\n",
    "\n"
   ]
  },
  {
   "cell_type": "code",
   "execution_count": 10,
   "metadata": {},
   "outputs": [
    {
     "name": "stdout",
     "output_type": "stream",
     "text": [
      "  user_id    created_year\n",
      "---------  --------------\n",
      "       13            2018\n",
      "        4            2019\n",
      "        8            2020\n"
     ]
    }
   ],
   "source": [
    "from tabulate import tabulate \n",
    "connection = psycopg2.connect(user=\"Elianna_user\",\n",
    "                                  password=\"password\",\n",
    "                                  host=\"localhost\",\n",
    "                                  port=\"5432\",\n",
    "                                  database=\"Elianna_db\")\n",
    "cursor = connection.cursor()\n",
    "\n",
    "cursor.execute(\"\"\"\n",
    "    SELECT COUNT (user_id) AS user_count, EXTRACT (YEAR FROM created_ts) AS created_year\n",
    "    FROM users \n",
    "    GROUP BY created_year\n",
    "    ORDER BY (created_year) ASC\n",
    "    \"\"\");\n",
    "\n",
    "r = cursor.fetchall()\n",
    "\n",
    "print(tabulate(r, headers = ['user_id', 'created_year'], tablefmt=\"simple\"))\n",
    "connection.close()"
   ]
  },
  {
   "cell_type": "markdown",
   "metadata": {},
   "source": [
    "VIII) Obtenga los días de nacimiento de todos los usuarios nacidos en el mes May.\n",
    "\n",
    "- Utilice la tabla users para este ejercicio.\n",
    "\n",
    "- La salida debe contener ``user_id``, ``user_dob``, ``user_email_id`` y ``user_day_of_birth``.\n",
    "\n",
    "- Utilice funciones específicas de fecha para obtener el mes utilizando ``user_dob``.\n",
    "\n",
    "- ``user_day_of_birth`` debe ser un día completo con el primer carácter en mayúsculas, por ejemplo `Tuesday`.\n",
    "\n",
    "- Los datos deben ordenarse por día dentro del mes ``May``."
   ]
  },
  {
   "cell_type": "code",
   "execution_count": 11,
   "metadata": {},
   "outputs": [
    {
     "name": "stdout",
     "output_type": "stream",
     "text": [
      "  user_id  user_dob    user_email_id            user_day_of_birth\n",
      "---------  ----------  -----------------------  -------------------\n",
      "        4  1998-05-24  mtanswill3@dedecms.com   Sunday\n",
      "       12  1983-05-26  uglayzerb@pinterest.com  Thursday\n",
      "        1  1973-05-31  gbode0@imgur.com         Thursday\n",
      "        2  2003-05-31  lgisbey1@mail.ru         Saturday\n"
     ]
    }
   ],
   "source": [
    "from tabulate import tabulate \n",
    "connection = psycopg2.connect(user=\"Elianna_user\",\n",
    "                                  password=\"password\",\n",
    "                                  host=\"localhost\",\n",
    "                                  port=\"5432\",\n",
    "                                  database=\"Elianna_db\")\n",
    "cursor = connection.cursor()\n",
    "\n",
    "cursor.execute(\"\"\"\n",
    "    SELECT user_id, user_dob, user_email_id,TO_CHAR(user_dob, 'FMDay') AS user_day_of_birth\n",
    "    FROM users\n",
    "    WHERE EXTRACT(MONTH FROM user_dob) = 5\n",
    "    ORDER BY EXTRACT(DAY FROM user_dob);\n",
    "    \"\"\");\n",
    "\n",
    "r = cursor.fetchall()\n",
    "\n",
    "print(tabulate(r, headers = ['user_id', 'user_dob', 'user_email_id', 'user_day_of_birth']))\n",
    "connection.close()"
   ]
  },
  {
   "cell_type": "markdown",
   "metadata": {},
   "source": [
    "IX) Obtenga los nombres e ids de correo electrónico de los usuarios añadidos en el año 2019.\n",
    "\n",
    "- Utilice la tabla users para este ejercicio.\n",
    "\n",
    "- La salida debe contener ``user_id``, ``user_name``, ``user_email_id``, ``created_ts``, ``created_year``.\n",
    "\n",
    "- Utilice funciones específicas de fecha para obtener el año utilizando ``created_ts``.\n",
    "\n",
    "- ``user_name`` es una columna derivada de concatenar ``user_first_name`` y ``user_last_name`` con un espacio en medio.\n",
    "\n",
    "- ``user_name`` debe tener valores en mayúsculas.\n",
    "\n",
    "- Los datos deben ordenarse en forma ascendente por ``user_name``"
   ]
  },
  {
   "cell_type": "code",
   "execution_count": 12,
   "metadata": {},
   "outputs": [
    {
     "name": "stdout",
     "output_type": "stream",
     "text": [
      "  user_id  user_name        user_email_id              created_ts             created_year\n",
      "---------  ---------------  -------------------------  -------------------  --------------\n",
      "        8  CYBIL LISSIMORE  clissimore7@pinterest.com  2019-12-09 14:08:30            2019\n",
      "       25  PHYLYS ASLIE     paslieo@qq.com             2019-10-01 01:34:28            2019\n",
      "       12  UNA GLAYZER      uglayzerb@pinterest.com    2019-09-17 03:24:21            2019\n",
      "       17  YANKEE JELF      yjelfg@wufoo.com           2019-09-16 16:09:12            2019\n"
     ]
    }
   ],
   "source": [
    "from tabulate import tabulate \n",
    "connection = psycopg2.connect(user=\"Elianna_user\",\n",
    "                                  password=\"password\",\n",
    "                                  host=\"localhost\",\n",
    "                                  port=\"5432\",\n",
    "                                  database=\"Elianna_db\")\n",
    "cursor = connection.cursor()\n",
    "\n",
    "cursor.execute(\"\"\"\n",
    "    SELECT user_id, UPPER(CONCAT(user_first_name, ' ', user_last_name)) AS user_name, user_email_id,created_ts,EXTRACT(YEAR FROM created_ts) AS created_year\n",
    "    FROM users\n",
    "    WHERE EXTRACT(YEAR FROM created_ts) = 2019\n",
    "    ORDER BY user_name ASC;\n",
    "    \"\"\");\n",
    "\n",
    "r = cursor.fetchall()\n",
    "\n",
    "print(tabulate(r, headers = ['user_id', 'user_name', 'user_email_id', 'created_ts', 'created_year']))\n",
    "connection.close()"
   ]
  },
  {
   "cell_type": "markdown",
   "metadata": {},
   "source": [
    "X) Obtenga el número de usuarios por género. Utilice la tabla de ``users`` para este ejercicio.\n",
    "\n",
    "- La salida debe contener el ``gender`` y ``user_count``.\n",
    "\n",
    "- Para los hombres la salida debe mostrar ``Male`` y para las mujeres la salida debe mostrar ``Female``.\n",
    "\n",
    "- Si no se especifica el sexo, se mostrará ``Not Specified``.\n",
    "\n",
    "- Los datos deben ordenarse en forma descendente por ``user_count``."
   ]
  },
  {
   "cell_type": "code",
   "execution_count": 13,
   "metadata": {},
   "outputs": [
    {
     "name": "stdout",
     "output_type": "stream",
     "text": [
      "user_gender      user_count\n",
      "-------------  ------------\n",
      "Female                   13\n",
      "Male                     10\n",
      "Not Specified             2\n"
     ]
    }
   ],
   "source": [
    "from tabulate import tabulate\n",
    "connection = psycopg2.connect(user=\"Elianna_user\",\n",
    "                                  password=\"password\",\n",
    "                                  host=\"localhost\",\n",
    "                                  port=\"5432\",\n",
    "                                  database=\"Elianna_db\")\n",
    "cursor = connection.cursor()\n",
    "\n",
    "cursor.execute(\"\"\"\n",
    "   SELECT  CASE  WHEN user_gender = 'M' THEN 'Male' WHEN user_gender = 'F' THEN 'Female'ELSE 'Not Specified' END AS gender,COUNT(*) AS user_count\n",
    "    FROM users\n",
    "    GROUP BY gender\n",
    "    ORDER BY user_count DESC;\n",
    "    \"\"\");\n",
    "\n",
    "r = cursor.fetchall()\n",
    "\n",
    "print(tabulate(r, headers = ['user_gender', 'user_count']))\n",
    "connection.close()"
   ]
  },
  {
   "cell_type": "markdown",
   "metadata": {},
   "source": [
    "XI) Obtenga los 4 últimos dígitos de los ids únicos.\n",
    "\n",
    "- Utilice la tabla ``users`` para este ejercicio.\n",
    "\n",
    "- El resultado debe contener ``user_id``, ``user_unique_id`` y ``user_unique_id_last4``.\n",
    "\n",
    "- Los identificadores únicos son ``null`` o ``not null``.\n",
    "\n",
    "- Los identificadores únicos contienen números y guiones y son de diferente longitud.\n",
    "\n",
    "- Necesitamos obtener los últimos 4 dígitos descartando los guiones sólo cuando el número de dígitos es al menos 9.\n",
    "\n",
    "- Si el identificador único es nulo, debe mostrarse ``Not Specified``.\n",
    "\n",
    "- Después de descartar los guiones, si el identificador único tiene menos de 9 dígitos, debe mostrar ``Invalid Unique Id``.\n",
    "\n",
    "- Los datos deben ordenarse por ``user_id``. Es posible que aparezca ``None`` o ``null`` para aquellos identificadores de usuario en los que no haya un identificador único para ``user_unique_id``."
   ]
  },
  {
   "cell_type": "code",
   "execution_count": 14,
   "metadata": {},
   "outputs": [
    {
     "name": "stdout",
     "output_type": "stream",
     "text": [
      "  user_id  user_unique_id    user_unique_id_last4\n",
      "---------  ----------------  ----------------------\n",
      "        1  88833-8759        8759\n",
      "        2  262501-029        1029\n",
      "        3  391-33-2823       2823\n",
      "        4  1195413-80        1380\n",
      "        5  471-24-6869       6869\n",
      "        6  192374-933        4933\n",
      "        7  749-27-47-52      4752\n",
      "        8  461-75-4198       4198\n",
      "        9  892-36-676-2      6762\n",
      "       10  197-54-1646       1646\n",
      "       11  232-55-52-58      5258\n",
      "       12  898-84-336-6      3366\n",
      "       13  247-95-68-44      6844\n",
      "       14  415-48-894-3      8943\n",
      "       15  403-39-5-869      5869\n",
      "       16  399-83-05-03      0503\n",
      "       17  607-99-0411       0411\n",
      "       18  430-01-578-5      5785\n",
      "       19  571-09-6181       6181\n",
      "       20  478-32-02-87      0287\n",
      "       21  Not Specified     Not Specified\n",
      "       22  Not Specified     Not Specified\n",
      "       23  830-40-5287       5287\n",
      "       24  778-0845          Invalid Unique Id\n",
      "       25  368-44-4478       4478\n"
     ]
    }
   ],
   "source": [
    "connection = psycopg2.connect(user=\"Elianna_user\",\n",
    "                                  password=\"password\",\n",
    "                                  host=\"localhost\",\n",
    "                                  port=\"5432\",\n",
    "                                  database=\"Elianna_db\")\n",
    "cursor = connection.cursor()\n",
    "\n",
    "cursor.execute(\"\"\"\n",
    "   SELECT user_id, COALESCE(user_unique_id, 'Not Specified') AS user_unique_id, CASE \n",
    "        WHEN user_unique_id IS NULL THEN 'Not Specified'\n",
    "        WHEN LENGTH(REPLACE(user_unique_id, '-', '')) >= 9 THEN RIGHT(REPLACE(user_unique_id, '-', ''), 4)\n",
    "        ELSE 'Invalid Unique Id'\n",
    "        END AS user_unique_id_last4\n",
    "    FROM users\n",
    "    ORDER BY user_id;\n",
    "    \"\"\");\n",
    "\n",
    "r = cursor.fetchall()\n",
    "\n",
    "print(tabulate(r, headers = ['user_id', 'user_unique_id', 'user_unique_id_last4']))\n",
    "connection.close()"
   ]
  },
  {
   "cell_type": "markdown",
   "metadata": {},
   "source": [
    "XII) Obtenga el recuento de usuarios en función del código de país.\n",
    "\n",
    "- Utilice la tabla ``users`` para este ejercicio.\n",
    "\n",
    "- La salida debe contener el código de país y el recuento.\n",
    "\n",
    "- No debe haber ningún ``+`` en el código de país. Sólo debe contener dígitos.\n",
    "\n",
    "- Los datos deben ordenarse como números por código de país.\n",
    "\n",
    "- Debemos descartar ``user_phone_no`` con valores ``null``."
   ]
  },
  {
   "cell_type": "code",
   "execution_count": 15,
   "metadata": {},
   "outputs": [
    {
     "name": "stdout",
     "output_type": "stream",
     "text": [
      "  country_code    user_count\n",
      "--------------  ------------\n",
      "             1             1\n",
      "             7             2\n",
      "            48             1\n",
      "            54             1\n",
      "            55             1\n",
      "            62             3\n",
      "            63             1\n",
      "            81             1\n",
      "            84             1\n",
      "            86             4\n",
      "           229             1\n",
      "           249             1\n",
      "           351             1\n",
      "           370             1\n",
      "           380             1\n",
      "           420             1\n",
      "           598             1\n"
     ]
    }
   ],
   "source": [
    "from tabulate import tabulate \n",
    "connection = psycopg2.connect(user=\"Elianna_user\",\n",
    "                                  password=\"password\",\n",
    "                                  host=\"localhost\",\n",
    "                                  port=\"5432\",\n",
    "                                  database=\"Elianna_db\")\n",
    "cursor = connection.cursor()\n",
    "\n",
    "cursor.execute(\"\"\"\n",
    "    SELECT CAST(LEFT(SUBSTRING(user_phone_no FROM '\\+(\\d+)'), POSITION('(' IN user_phone_no) - 1) AS INTEGER) AS country_code, COUNT(*) AS user_count\n",
    "    FROM users\n",
    "    WHERE user_phone_no IS NOT NULL\n",
    "    GROUP BY country_code\n",
    "    ORDER BY country_code;\n",
    "    \"\"\");\n",
    "\n",
    "r = cursor.fetchall()\n",
    "\n",
    "print(tabulate(r, headers = ['country_code', 'user_count']))\n",
    "connection.close()"
   ]
  }
 ],
 "metadata": {
  "kernelspec": {
   "display_name": "Empresa",
   "language": "python",
   "name": "python3"
  },
  "language_info": {
   "codemirror_mode": {
    "name": "ipython",
    "version": 3
   },
   "file_extension": ".py",
   "mimetype": "text/x-python",
   "name": "python",
   "nbconvert_exporter": "python",
   "pygments_lexer": "ipython3",
   "version": "3.9.19"
  }
 },
 "nbformat": 4,
 "nbformat_minor": 2
}
